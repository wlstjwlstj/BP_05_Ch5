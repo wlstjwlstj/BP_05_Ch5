{
  "nbformat": 4,
  "nbformat_minor": 0,
  "metadata": {
    "colab": {
      "provenance": [],
      "authorship_tag": "ABX9TyNGRWI4r9+5LJJ8xTXTYgPJ",
      "include_colab_link": true
    },
    "kernelspec": {
      "name": "python3",
      "display_name": "Python 3"
    },
    "language_info": {
      "name": "python"
    }
  },
  "cells": [
    {
      "cell_type": "markdown",
      "metadata": {
        "id": "view-in-github",
        "colab_type": "text"
      },
      "source": [
        "<a href=\"https://colab.research.google.com/github/wlstjwlstj/BP_05_Ch5/blob/main/BP_05_Ch5.ipynb\" target=\"_parent\"><img src=\"https://colab.research.google.com/assets/colab-badge.svg\" alt=\"Open In Colab\"/></a>"
      ]
    },
    {
      "cell_type": "markdown",
      "source": [
        "1. 다음 프로그램의 출력은 무엇인가?"
      ],
      "metadata": {
        "id": "FBbVMFPXboTA"
      }
    },
    {
      "cell_type": "code",
      "source": [
        "age=20\n",
        "if age<20:           #age의 값이 20미만인 경우에 참\n",
        "  print(\"20살 미만\")\n",
        "else:                #age의 값이 20이상인 경우에 \"20살 이상\" 출력\n",
        "  print(\"20살 이상\")  \n",
        "#20은 20 미만이 아니므로 20살 이상으로 출력됨"
      ],
      "metadata": {
        "colab": {
          "base_uri": "https://localhost:8080/"
        },
        "id": "PrNmcWEVcjVg",
        "outputId": "5d986b87-96d2-4be6-a96f-0938f8415ef2"
      },
      "execution_count": 1,
      "outputs": [
        {
          "output_type": "stream",
          "name": "stdout",
          "text": [
            "20살 이상\n"
          ]
        }
      ]
    },
    {
      "cell_type": "markdown",
      "source": [
        "2.1번 문제에서 age가 30 이상이고 50이하인 것을 체크하려면 어떻게 하여야 하는가?"
      ],
      "metadata": {
        "id": "soVs67_pdXKr"
      }
    },
    {
      "cell_type": "code",
      "source": [],
      "metadata": {
        "id": "EoC4w6BWdgS_"
      },
      "execution_count": null,
      "outputs": []
    }
  ]
}